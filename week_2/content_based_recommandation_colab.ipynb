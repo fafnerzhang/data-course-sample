{
  "cells": [
    {
      "cell_type": "markdown",
      "metadata": {
        "id": "view-in-github",
        "colab_type": "text"
      },
      "source": [
        "<a href=\"https://colab.research.google.com/github/fafnerzhang/data-course-sample/blob/dev/week_2/content_based_recommandation_colab.ipynb\" target=\"_parent\"><img src=\"https://colab.research.google.com/assets/colab-badge.svg\" alt=\"Open In Colab\"/></a>"
      ]
    },
    {
      "cell_type": "markdown",
      "metadata": {
        "id": "I1ZgRAIvLqLd"
      },
      "source": [
        "# Sample Code"
      ],
      "id": "I1ZgRAIvLqLd"
    },
    {
      "cell_type": "markdown",
      "metadata": {
        "id": "LC1BRuS5LqLe"
      },
      "source": [
        "## 基礎建設"
      ],
      "id": "LC1BRuS5LqLe"
    },
    {
      "cell_type": "code",
      "execution_count": 2,
      "metadata": {
        "scrolled": true,
        "id": "H0UBD_BcLqLf"
      },
      "outputs": [],
      "source": [
        "import pandas as pd\n",
        "import gzip, json\n",
        "\n",
        "def parse(path):\n",
        "    g = gzip.open(path, 'rb')\n",
        "    for l in g:\n",
        "        yield json.loads(l)\n",
        "\n",
        "def getDF(path):\n",
        "    i = 0\n",
        "    df = {}\n",
        "    for d in parse(path):\n",
        "        df[i] = d\n",
        "        i += 1\n",
        "    return pd.DataFrame.from_dict(df, orient='index')"
      ],
      "id": "H0UBD_BcLqLf"
    },
    {
      "cell_type": "markdown",
      "metadata": {
        "id": "r82gxWFtLqLf"
      },
      "source": [
        "## 載入資料"
      ],
      "id": "r82gxWFtLqLf"
    },
    {
      "cell_type": "code",
      "source": [
        "!wget http://deepyeti.ucsd.edu/jianmo/amazon/categoryFilesSmall/All_Beauty.csv\n",
        "!wget http://deepyeti.ucsd.edu/jianmo/amazon/metaFiles2/meta_All_Beauty.json.gz"
      ],
      "metadata": {
        "id": "Qxhgz-NcLzBz",
        "outputId": "185603ec-fd07-49d5-b3e3-b1a8069222fc",
        "colab": {
          "base_uri": "https://localhost:8080/"
        }
      },
      "id": "Qxhgz-NcLzBz",
      "execution_count": 1,
      "outputs": [
        {
          "output_type": "stream",
          "name": "stdout",
          "text": [
            "--2022-01-02 14:26:45--  http://deepyeti.ucsd.edu/jianmo/amazon/categoryFilesSmall/All_Beauty.csv\n",
            "Resolving deepyeti.ucsd.edu (deepyeti.ucsd.edu)... 169.228.63.50\n",
            "Connecting to deepyeti.ucsd.edu (deepyeti.ucsd.edu)|169.228.63.50|:80... connected.\n",
            "HTTP request sent, awaiting response... 200 OK\n",
            "Length: 15499476 (15M) [application/octet-stream]\n",
            "Saving to: ‘All_Beauty.csv’\n",
            "\n",
            "All_Beauty.csv      100%[===================>]  14.78M  40.6MB/s    in 0.4s    \n",
            "\n",
            "2022-01-02 14:26:46 (40.6 MB/s) - ‘All_Beauty.csv’ saved [15499476/15499476]\n",
            "\n",
            "--2022-01-02 14:26:46--  http://deepyeti.ucsd.edu/jianmo/amazon/metaFiles2/meta_All_Beauty.json.gz\n",
            "Resolving deepyeti.ucsd.edu (deepyeti.ucsd.edu)... 169.228.63.50\n",
            "Connecting to deepyeti.ucsd.edu (deepyeti.ucsd.edu)|169.228.63.50|:80... connected.\n",
            "HTTP request sent, awaiting response... 200 OK\n",
            "Length: 10329961 (9.9M) [application/octet-stream]\n",
            "Saving to: ‘meta_All_Beauty.json.gz’\n",
            "\n",
            "meta_All_Beauty.jso 100%[===================>]   9.85M  34.9MB/s    in 0.3s    \n",
            "\n",
            "2022-01-02 14:26:46 (34.9 MB/s) - ‘meta_All_Beauty.json.gz’ saved [10329961/10329961]\n",
            "\n"
          ]
        }
      ]
    },
    {
      "cell_type": "code",
      "execution_count": 3,
      "metadata": {
        "id": "FrhIs4XfLqLg",
        "outputId": "7f84f9a9-4739-4092-9858-4bbb6f27dc3e",
        "colab": {
          "base_uri": "https://localhost:8080/"
        }
      },
      "outputs": [
        {
          "output_type": "stream",
          "name": "stdout",
          "text": [
            "/content\n"
          ]
        }
      ],
      "source": [
        "import os \n",
        "print(os.getcwd())\n",
        "metadata = getDF('./meta_All_Beauty.json.gz')\n",
        "ratings = pd.read_csv('./All_Beauty.csv', names=['asin', 'reviewerID', 'overall', 'unixReviewTime'], header=None)"
      ],
      "id": "FrhIs4XfLqLg"
    },
    {
      "cell_type": "code",
      "execution_count": 4,
      "metadata": {
        "id": "HIqWQR5bLqLg",
        "outputId": "52edd68e-4bcb-4457-a8ac-0f26d6bb68da",
        "colab": {
          "base_uri": "https://localhost:8080/",
          "height": 597
        }
      },
      "outputs": [
        {
          "output_type": "execute_result",
          "data": {
            "text/html": [
              "\n",
              "  <div id=\"df-3f847a0a-a362-4890-a96e-d42fe8f4d08e\">\n",
              "    <div class=\"colab-df-container\">\n",
              "      <div>\n",
              "<style scoped>\n",
              "    .dataframe tbody tr th:only-of-type {\n",
              "        vertical-align: middle;\n",
              "    }\n",
              "\n",
              "    .dataframe tbody tr th {\n",
              "        vertical-align: top;\n",
              "    }\n",
              "\n",
              "    .dataframe thead th {\n",
              "        text-align: right;\n",
              "    }\n",
              "</style>\n",
              "<table border=\"1\" class=\"dataframe\">\n",
              "  <thead>\n",
              "    <tr style=\"text-align: right;\">\n",
              "      <th></th>\n",
              "      <th>category</th>\n",
              "      <th>tech1</th>\n",
              "      <th>description</th>\n",
              "      <th>fit</th>\n",
              "      <th>title</th>\n",
              "      <th>also_buy</th>\n",
              "      <th>tech2</th>\n",
              "      <th>brand</th>\n",
              "      <th>feature</th>\n",
              "      <th>rank</th>\n",
              "      <th>also_view</th>\n",
              "      <th>details</th>\n",
              "      <th>main_cat</th>\n",
              "      <th>similar_item</th>\n",
              "      <th>date</th>\n",
              "      <th>price</th>\n",
              "      <th>asin</th>\n",
              "      <th>imageURL</th>\n",
              "      <th>imageURLHighRes</th>\n",
              "    </tr>\n",
              "  </thead>\n",
              "  <tbody>\n",
              "    <tr>\n",
              "      <th>0</th>\n",
              "      <td>[]</td>\n",
              "      <td></td>\n",
              "      <td>[Loud 'N Clear Personal Sound Amplifier allows...</td>\n",
              "      <td></td>\n",
              "      <td>Loud 'N Clear&amp;trade; Personal Sound Amplifier</td>\n",
              "      <td>[]</td>\n",
              "      <td></td>\n",
              "      <td>idea village</td>\n",
              "      <td>[]</td>\n",
              "      <td>2,938,573 in Beauty &amp; Personal Care (</td>\n",
              "      <td>[]</td>\n",
              "      <td>{'ASIN: ': '6546546450'}</td>\n",
              "      <td>All Beauty</td>\n",
              "      <td></td>\n",
              "      <td></td>\n",
              "      <td></td>\n",
              "      <td>6546546450</td>\n",
              "      <td>[]</td>\n",
              "      <td>[]</td>\n",
              "    </tr>\n",
              "    <tr>\n",
              "      <th>1</th>\n",
              "      <td>[]</td>\n",
              "      <td></td>\n",
              "      <td>[No7 Lift &amp; Luminate Triple Action Serum 50ml ...</td>\n",
              "      <td></td>\n",
              "      <td>No7 Lift &amp;amp; Luminate Triple Action Serum 50...</td>\n",
              "      <td>[B01E7LCSL6, B008X5RVME]</td>\n",
              "      <td></td>\n",
              "      <td></td>\n",
              "      <td>[]</td>\n",
              "      <td>872,854 in Beauty &amp; Personal Care (</td>\n",
              "      <td>[]</td>\n",
              "      <td>{'Shipping Weight:': '0.3 ounces (', 'ASIN: ':...</td>\n",
              "      <td>All Beauty</td>\n",
              "      <td>class=\"a-bordered a-horizontal-stripes  a-spa...</td>\n",
              "      <td></td>\n",
              "      <td>$44.99</td>\n",
              "      <td>7178680776</td>\n",
              "      <td>[]</td>\n",
              "      <td>[]</td>\n",
              "    </tr>\n",
              "    <tr>\n",
              "      <th>2</th>\n",
              "      <td>[]</td>\n",
              "      <td></td>\n",
              "      <td>[No7 Stay Perfect Foundation now stays perfect...</td>\n",
              "      <td></td>\n",
              "      <td>No7 Stay Perfect Foundation Cool Vanilla by No7</td>\n",
              "      <td>[]</td>\n",
              "      <td></td>\n",
              "      <td>No7</td>\n",
              "      <td>[]</td>\n",
              "      <td>956,696 in Beauty &amp; Personal Care (</td>\n",
              "      <td>[B01B8BR0O8, B01B8BR0NO, B014MHXXM8]</td>\n",
              "      <td>{'Shipping Weight:': '3.5 ounces (', 'ASIN: ':...</td>\n",
              "      <td>All Beauty</td>\n",
              "      <td></td>\n",
              "      <td></td>\n",
              "      <td>$28.76</td>\n",
              "      <td>7250468162</td>\n",
              "      <td>[]</td>\n",
              "      <td>[]</td>\n",
              "    </tr>\n",
              "    <tr>\n",
              "      <th>3</th>\n",
              "      <td>[]</td>\n",
              "      <td></td>\n",
              "      <td>[]</td>\n",
              "      <td></td>\n",
              "      <td>Wella Koleston Perfect Hair Colour 44/44 Mediu...</td>\n",
              "      <td>[B0041PBXX8]</td>\n",
              "      <td></td>\n",
              "      <td></td>\n",
              "      <td>[]</td>\n",
              "      <td>1,870,258 in Beauty &amp; Personal Care (</td>\n",
              "      <td>[]</td>\n",
              "      <td>{'\n",
              "    Item Weight: \n",
              "    ': '1.76 ounces', 'Sh...</td>\n",
              "      <td>All Beauty</td>\n",
              "      <td></td>\n",
              "      <td></td>\n",
              "      <td></td>\n",
              "      <td>7367905066</td>\n",
              "      <td>[https://images-na.ssl-images-amazon.com/image...</td>\n",
              "      <td>[https://images-na.ssl-images-amazon.com/image...</td>\n",
              "    </tr>\n",
              "    <tr>\n",
              "      <th>4</th>\n",
              "      <td>[]</td>\n",
              "      <td></td>\n",
              "      <td>[Lacto Calamine Skin Balance Daily Nourishing ...</td>\n",
              "      <td></td>\n",
              "      <td>Lacto Calamine Skin Balance Oil control 120 ml...</td>\n",
              "      <td>[]</td>\n",
              "      <td></td>\n",
              "      <td>Pirmal Healthcare</td>\n",
              "      <td>[]</td>\n",
              "      <td>67,701 in Beauty &amp; Personal Care (</td>\n",
              "      <td>[3254895630, B007VL1D9S, B00EH9A0RI, B0773MBG4...</td>\n",
              "      <td>{'Shipping Weight:': '12 ounces (', 'ASIN: ': ...</td>\n",
              "      <td>All Beauty</td>\n",
              "      <td></td>\n",
              "      <td></td>\n",
              "      <td>$12.15</td>\n",
              "      <td>7414204790</td>\n",
              "      <td>[https://images-na.ssl-images-amazon.com/image...</td>\n",
              "      <td>[https://images-na.ssl-images-amazon.com/image...</td>\n",
              "    </tr>\n",
              "  </tbody>\n",
              "</table>\n",
              "</div>\n",
              "      <button class=\"colab-df-convert\" onclick=\"convertToInteractive('df-3f847a0a-a362-4890-a96e-d42fe8f4d08e')\"\n",
              "              title=\"Convert this dataframe to an interactive table.\"\n",
              "              style=\"display:none;\">\n",
              "        \n",
              "  <svg xmlns=\"http://www.w3.org/2000/svg\" height=\"24px\"viewBox=\"0 0 24 24\"\n",
              "       width=\"24px\">\n",
              "    <path d=\"M0 0h24v24H0V0z\" fill=\"none\"/>\n",
              "    <path d=\"M18.56 5.44l.94 2.06.94-2.06 2.06-.94-2.06-.94-.94-2.06-.94 2.06-2.06.94zm-11 1L8.5 8.5l.94-2.06 2.06-.94-2.06-.94L8.5 2.5l-.94 2.06-2.06.94zm10 10l.94 2.06.94-2.06 2.06-.94-2.06-.94-.94-2.06-.94 2.06-2.06.94z\"/><path d=\"M17.41 7.96l-1.37-1.37c-.4-.4-.92-.59-1.43-.59-.52 0-1.04.2-1.43.59L10.3 9.45l-7.72 7.72c-.78.78-.78 2.05 0 2.83L4 21.41c.39.39.9.59 1.41.59.51 0 1.02-.2 1.41-.59l7.78-7.78 2.81-2.81c.8-.78.8-2.07 0-2.86zM5.41 20L4 18.59l7.72-7.72 1.47 1.35L5.41 20z\"/>\n",
              "  </svg>\n",
              "      </button>\n",
              "      \n",
              "  <style>\n",
              "    .colab-df-container {\n",
              "      display:flex;\n",
              "      flex-wrap:wrap;\n",
              "      gap: 12px;\n",
              "    }\n",
              "\n",
              "    .colab-df-convert {\n",
              "      background-color: #E8F0FE;\n",
              "      border: none;\n",
              "      border-radius: 50%;\n",
              "      cursor: pointer;\n",
              "      display: none;\n",
              "      fill: #1967D2;\n",
              "      height: 32px;\n",
              "      padding: 0 0 0 0;\n",
              "      width: 32px;\n",
              "    }\n",
              "\n",
              "    .colab-df-convert:hover {\n",
              "      background-color: #E2EBFA;\n",
              "      box-shadow: 0px 1px 2px rgba(60, 64, 67, 0.3), 0px 1px 3px 1px rgba(60, 64, 67, 0.15);\n",
              "      fill: #174EA6;\n",
              "    }\n",
              "\n",
              "    [theme=dark] .colab-df-convert {\n",
              "      background-color: #3B4455;\n",
              "      fill: #D2E3FC;\n",
              "    }\n",
              "\n",
              "    [theme=dark] .colab-df-convert:hover {\n",
              "      background-color: #434B5C;\n",
              "      box-shadow: 0px 1px 3px 1px rgba(0, 0, 0, 0.15);\n",
              "      filter: drop-shadow(0px 1px 2px rgba(0, 0, 0, 0.3));\n",
              "      fill: #FFFFFF;\n",
              "    }\n",
              "  </style>\n",
              "\n",
              "      <script>\n",
              "        const buttonEl =\n",
              "          document.querySelector('#df-3f847a0a-a362-4890-a96e-d42fe8f4d08e button.colab-df-convert');\n",
              "        buttonEl.style.display =\n",
              "          google.colab.kernel.accessAllowed ? 'block' : 'none';\n",
              "\n",
              "        async function convertToInteractive(key) {\n",
              "          const element = document.querySelector('#df-3f847a0a-a362-4890-a96e-d42fe8f4d08e');\n",
              "          const dataTable =\n",
              "            await google.colab.kernel.invokeFunction('convertToInteractive',\n",
              "                                                     [key], {});\n",
              "          if (!dataTable) return;\n",
              "\n",
              "          const docLinkHtml = 'Like what you see? Visit the ' +\n",
              "            '<a target=\"_blank\" href=https://colab.research.google.com/notebooks/data_table.ipynb>data table notebook</a>'\n",
              "            + ' to learn more about interactive tables.';\n",
              "          element.innerHTML = '';\n",
              "          dataTable['output_type'] = 'display_data';\n",
              "          await google.colab.output.renderOutput(dataTable, element);\n",
              "          const docLink = document.createElement('div');\n",
              "          docLink.innerHTML = docLinkHtml;\n",
              "          element.appendChild(docLink);\n",
              "        }\n",
              "      </script>\n",
              "    </div>\n",
              "  </div>\n",
              "  "
            ],
            "text/plain": [
              "  category  ...                                    imageURLHighRes\n",
              "0       []  ...                                                 []\n",
              "1       []  ...                                                 []\n",
              "2       []  ...                                                 []\n",
              "3       []  ...  [https://images-na.ssl-images-amazon.com/image...\n",
              "4       []  ...  [https://images-na.ssl-images-amazon.com/image...\n",
              "\n",
              "[5 rows x 19 columns]"
            ]
          },
          "metadata": {},
          "execution_count": 4
        }
      ],
      "source": [
        "metadata.head()"
      ],
      "id": "HIqWQR5bLqLg"
    },
    {
      "cell_type": "code",
      "execution_count": 5,
      "metadata": {
        "id": "tljNvg35LqLh",
        "outputId": "7ec672ec-b4e8-428c-fb81-53f81fa66fb0",
        "colab": {
          "base_uri": "https://localhost:8080/",
          "height": 206
        }
      },
      "outputs": [
        {
          "output_type": "execute_result",
          "data": {
            "text/html": [
              "\n",
              "  <div id=\"df-ebd8e591-5bec-4520-9fbd-b4aee5f972df\">\n",
              "    <div class=\"colab-df-container\">\n",
              "      <div>\n",
              "<style scoped>\n",
              "    .dataframe tbody tr th:only-of-type {\n",
              "        vertical-align: middle;\n",
              "    }\n",
              "\n",
              "    .dataframe tbody tr th {\n",
              "        vertical-align: top;\n",
              "    }\n",
              "\n",
              "    .dataframe thead th {\n",
              "        text-align: right;\n",
              "    }\n",
              "</style>\n",
              "<table border=\"1\" class=\"dataframe\">\n",
              "  <thead>\n",
              "    <tr style=\"text-align: right;\">\n",
              "      <th></th>\n",
              "      <th>asin</th>\n",
              "      <th>reviewerID</th>\n",
              "      <th>overall</th>\n",
              "      <th>unixReviewTime</th>\n",
              "    </tr>\n",
              "  </thead>\n",
              "  <tbody>\n",
              "    <tr>\n",
              "      <th>0</th>\n",
              "      <td>0143026860</td>\n",
              "      <td>A1V6B6TNIC10QE</td>\n",
              "      <td>1.0</td>\n",
              "      <td>1424304000</td>\n",
              "    </tr>\n",
              "    <tr>\n",
              "      <th>1</th>\n",
              "      <td>0143026860</td>\n",
              "      <td>A2F5GHSXFQ0W6J</td>\n",
              "      <td>4.0</td>\n",
              "      <td>1418860800</td>\n",
              "    </tr>\n",
              "    <tr>\n",
              "      <th>2</th>\n",
              "      <td>0143026860</td>\n",
              "      <td>A1572GUYS7DGSR</td>\n",
              "      <td>4.0</td>\n",
              "      <td>1407628800</td>\n",
              "    </tr>\n",
              "    <tr>\n",
              "      <th>3</th>\n",
              "      <td>0143026860</td>\n",
              "      <td>A1PSGLFK1NSVO</td>\n",
              "      <td>5.0</td>\n",
              "      <td>1362960000</td>\n",
              "    </tr>\n",
              "    <tr>\n",
              "      <th>4</th>\n",
              "      <td>0143026860</td>\n",
              "      <td>A6IKXKZMTKGSC</td>\n",
              "      <td>5.0</td>\n",
              "      <td>1324771200</td>\n",
              "    </tr>\n",
              "  </tbody>\n",
              "</table>\n",
              "</div>\n",
              "      <button class=\"colab-df-convert\" onclick=\"convertToInteractive('df-ebd8e591-5bec-4520-9fbd-b4aee5f972df')\"\n",
              "              title=\"Convert this dataframe to an interactive table.\"\n",
              "              style=\"display:none;\">\n",
              "        \n",
              "  <svg xmlns=\"http://www.w3.org/2000/svg\" height=\"24px\"viewBox=\"0 0 24 24\"\n",
              "       width=\"24px\">\n",
              "    <path d=\"M0 0h24v24H0V0z\" fill=\"none\"/>\n",
              "    <path d=\"M18.56 5.44l.94 2.06.94-2.06 2.06-.94-2.06-.94-.94-2.06-.94 2.06-2.06.94zm-11 1L8.5 8.5l.94-2.06 2.06-.94-2.06-.94L8.5 2.5l-.94 2.06-2.06.94zm10 10l.94 2.06.94-2.06 2.06-.94-2.06-.94-.94-2.06-.94 2.06-2.06.94z\"/><path d=\"M17.41 7.96l-1.37-1.37c-.4-.4-.92-.59-1.43-.59-.52 0-1.04.2-1.43.59L10.3 9.45l-7.72 7.72c-.78.78-.78 2.05 0 2.83L4 21.41c.39.39.9.59 1.41.59.51 0 1.02-.2 1.41-.59l7.78-7.78 2.81-2.81c.8-.78.8-2.07 0-2.86zM5.41 20L4 18.59l7.72-7.72 1.47 1.35L5.41 20z\"/>\n",
              "  </svg>\n",
              "      </button>\n",
              "      \n",
              "  <style>\n",
              "    .colab-df-container {\n",
              "      display:flex;\n",
              "      flex-wrap:wrap;\n",
              "      gap: 12px;\n",
              "    }\n",
              "\n",
              "    .colab-df-convert {\n",
              "      background-color: #E8F0FE;\n",
              "      border: none;\n",
              "      border-radius: 50%;\n",
              "      cursor: pointer;\n",
              "      display: none;\n",
              "      fill: #1967D2;\n",
              "      height: 32px;\n",
              "      padding: 0 0 0 0;\n",
              "      width: 32px;\n",
              "    }\n",
              "\n",
              "    .colab-df-convert:hover {\n",
              "      background-color: #E2EBFA;\n",
              "      box-shadow: 0px 1px 2px rgba(60, 64, 67, 0.3), 0px 1px 3px 1px rgba(60, 64, 67, 0.15);\n",
              "      fill: #174EA6;\n",
              "    }\n",
              "\n",
              "    [theme=dark] .colab-df-convert {\n",
              "      background-color: #3B4455;\n",
              "      fill: #D2E3FC;\n",
              "    }\n",
              "\n",
              "    [theme=dark] .colab-df-convert:hover {\n",
              "      background-color: #434B5C;\n",
              "      box-shadow: 0px 1px 3px 1px rgba(0, 0, 0, 0.15);\n",
              "      filter: drop-shadow(0px 1px 2px rgba(0, 0, 0, 0.3));\n",
              "      fill: #FFFFFF;\n",
              "    }\n",
              "  </style>\n",
              "\n",
              "      <script>\n",
              "        const buttonEl =\n",
              "          document.querySelector('#df-ebd8e591-5bec-4520-9fbd-b4aee5f972df button.colab-df-convert');\n",
              "        buttonEl.style.display =\n",
              "          google.colab.kernel.accessAllowed ? 'block' : 'none';\n",
              "\n",
              "        async function convertToInteractive(key) {\n",
              "          const element = document.querySelector('#df-ebd8e591-5bec-4520-9fbd-b4aee5f972df');\n",
              "          const dataTable =\n",
              "            await google.colab.kernel.invokeFunction('convertToInteractive',\n",
              "                                                     [key], {});\n",
              "          if (!dataTable) return;\n",
              "\n",
              "          const docLinkHtml = 'Like what you see? Visit the ' +\n",
              "            '<a target=\"_blank\" href=https://colab.research.google.com/notebooks/data_table.ipynb>data table notebook</a>'\n",
              "            + ' to learn more about interactive tables.';\n",
              "          element.innerHTML = '';\n",
              "          dataTable['output_type'] = 'display_data';\n",
              "          await google.colab.output.renderOutput(dataTable, element);\n",
              "          const docLink = document.createElement('div');\n",
              "          docLink.innerHTML = docLinkHtml;\n",
              "          element.appendChild(docLink);\n",
              "        }\n",
              "      </script>\n",
              "    </div>\n",
              "  </div>\n",
              "  "
            ],
            "text/plain": [
              "         asin      reviewerID  overall  unixReviewTime\n",
              "0  0143026860  A1V6B6TNIC10QE      1.0      1424304000\n",
              "1  0143026860  A2F5GHSXFQ0W6J      4.0      1418860800\n",
              "2  0143026860  A1572GUYS7DGSR      4.0      1407628800\n",
              "3  0143026860   A1PSGLFK1NSVO      5.0      1362960000\n",
              "4  0143026860   A6IKXKZMTKGSC      5.0      1324771200"
            ]
          },
          "metadata": {},
          "execution_count": 5
        }
      ],
      "source": [
        "ratings.head()"
      ],
      "id": "tljNvg35LqLh"
    },
    {
      "cell_type": "markdown",
      "metadata": {
        "id": "iLvMkmdZLqLh"
      },
      "source": [
        "## 資料整理"
      ],
      "id": "iLvMkmdZLqLh"
    },
    {
      "cell_type": "code",
      "execution_count": null,
      "metadata": {
        "id": "Sm_oJgDFLqLh"
      },
      "outputs": [],
      "source": [
        "import regex as re\n",
        "from string import digits\n",
        "\n",
        "def remove_brand(text):\n",
        "    res = re.sub(brand_pattern, '', text)\n",
        "    return res\n",
        "\n",
        "def find_brand(text):\n",
        "    res = re.match(brand_pattern, text)\n",
        "    return res.group(0) if res else ''\n",
        "\n",
        "def extract_price(cell):\n",
        "    cell = ''.join(c for c in cell if c in digits)\n",
        "    return int(cell) if len(cell) > 0 else 0\n",
        "    \n",
        "def find_sub_cat(cell):\n",
        "    if len(cell) > 0:\n",
        "        cell = str(cell).split('in ')\n",
        "        cell = re.sub(r\"((&amp)|&|;|'|(100)|Top|top|See| )*\", '', cell[1])\n",
        "        return cell.replace(\"\\(\", '').replace('(', '').replace(')', '').replace(']', '')\n",
        "    else:\n",
        "        return 'without_category'\n",
        "\n",
        "ratings['DATE'] = pd.to_datetime(ratings['unixReviewTime'], unit='s')\n",
        "brand_list = metadata['brand'].value_counts().keys().tolist()\n",
        "brand_list = list(filter(lambda x:len(x)>2, brand_list))\n",
        "brand_pattern = re.compile(r\"(?:{})\".format('|'.join([re.escape(x) for x in brand_list])))\n",
        "metadata['brand_from_title'] = metadata['title'].apply(find_brand)\n",
        "metadata['title_without_brand'] = metadata['title'].apply(remove_brand)\n",
        "metadata['price'] = metadata['price'].apply(extract_price)\n",
        "metadata['sub_category'] = metadata['rank'].str.split('in ').str[1]\n",
        "metadata['sub_category'] = metadata['sub_category'].str.replace(r'&amp;', '', regex=True)\n",
        "metadata['sub_category'] = metadata['sub_category'].str.replace(r'\\(', '', regex=True)\n",
        "metadata['sub_category'] = metadata['sub_category'].str.replace(r'&', '', regex=True)\n",
        "metadata['text_data'] = metadata.agg(lambda x: f'{x[\"title\"]}, {\" \".join(x[\"description\"])}', axis=1)\n",
        "metadata['text_data'] = metadata['text_data'].apply(remove_brand)"
      ],
      "id": "Sm_oJgDFLqLh"
    },
    {
      "cell_type": "code",
      "execution_count": null,
      "metadata": {
        "id": "upQtsmJTLqLh"
      },
      "outputs": [],
      "source": [
        "metadata['sub_category'].value_counts()"
      ],
      "id": "upQtsmJTLqLh"
    },
    {
      "cell_type": "code",
      "execution_count": null,
      "metadata": {
        "id": "fEtAOgXELqLi"
      },
      "outputs": [],
      "source": [
        "metadata.drop(metadata[(metadata['sub_category'] != 'BeautyPersonalCare')].index)\n",
        "metadata"
      ],
      "id": "fEtAOgXELqLi"
    },
    {
      "cell_type": "markdown",
      "metadata": {
        "id": "QF-n5wskLqLi"
      },
      "source": [
        "## 資料切分"
      ],
      "id": "QF-n5wskLqLi"
    },
    {
      "cell_type": "code",
      "execution_count": null,
      "metadata": {
        "id": "qWiOA5SVLqLi"
      },
      "outputs": [],
      "source": [
        "ratings_trainings = ratings[\n",
        "    (ratings['DATE'] < '2018-09-01')\n",
        "]\n",
        "ratings_testings = ratings[\n",
        "    (ratings['DATE'] >= '2018-09-01') & \n",
        "    (ratings['DATE'] <= '2018-09-30')\n",
        "]\n",
        "ratings_testings_by_user = ratings_testings.groupby('reviewerID').agg(list).reset_index()[['reviewerID', 'asin']].to_dict('records')\n",
        "ratings_testings_by_user = { rating['reviewerID']: rating['asin'] for rating in ratings_testings_by_user }\n",
        "users = list(ratings_testings_by_user.keys())"
      ],
      "id": "qWiOA5SVLqLi"
    },
    {
      "cell_type": "markdown",
      "metadata": {
        "id": "Bjj_5Tw_LqLi"
      },
      "source": [
        "## 處理文字資料"
      ],
      "id": "Bjj_5Tw_LqLi"
    },
    {
      "cell_type": "code",
      "source": [
        "!pip install spacy\n",
        "!python -m spacy download en_core_web_sm"
      ],
      "metadata": {
        "id": "QaX53opEMP3b"
      },
      "id": "QaX53opEMP3b",
      "execution_count": null,
      "outputs": []
    },
    {
      "cell_type": "code",
      "execution_count": null,
      "metadata": {
        "id": "YEbH1XBOLqLi"
      },
      "outputs": [],
      "source": [
        "from sklearn.feature_extraction.text import TfidfVectorizer\n",
        "import spacy\n",
        "# 計算商品用標題所表示的 tfidf 矩陣\n",
        "df = metadata.drop_duplicates('title')\n",
        "title_without_brand = df['text_data'].to_list()\n",
        "nlp = spacy.load('en_core_web_sm', disable = ['ner', 'parser', 'textcat'])\n",
        "nlp.Defaults.stop_words |= {'amp', 'perfect'}\n",
        "for idx, sent in enumerate(title_without_brand):\n",
        "    title_without_brand[idx] = re.sub('[0-9.,-_]*', '', sent)\n",
        "title_without_brand = list(nlp.pipe(title_without_brand))"
      ],
      "id": "YEbH1XBOLqLi"
    },
    {
      "cell_type": "code",
      "execution_count": null,
      "metadata": {
        "id": "5Zt4MJrKLqLj",
        "outputId": "d60a15e2-2ea6-48b8-d7aa-a9efe8b2e0d2"
      },
      "outputs": [
        {
          "name": "stdout",
          "output_type": "stream",
          "text": [
            "32300\n"
          ]
        }
      ],
      "source": [
        "title_without_brand_feature = list()\n",
        "stop_word = nlp.Defaults.stop_words\n",
        "pos_tag = set(['NOUN', 'PROPN', 'VERB', 'ADJ'])\n",
        "for idx, sent in enumerate(title_without_brand):\n",
        "    title = list()\n",
        "    for word in sent:\n",
        "        if  (not((word.norm_ in stop_word) or (word.is_punct))) and word.pos_ in pos_tag:\n",
        "            title.append(word.norm_)\n",
        "    title_without_brand_feature.append(' '.join(title))\n",
        "print(len(title_without_brand_feature))"
      ],
      "id": "5Zt4MJrKLqLj"
    },
    {
      "cell_type": "code",
      "execution_count": null,
      "metadata": {
        "id": "9Yv70zK0LqLj"
      },
      "outputs": [],
      "source": [
        "vectorizer = TfidfVectorizer()\n",
        "tfidf_matrix = vectorizer.fit_transform(title_without_brand_feature)"
      ],
      "id": "9Yv70zK0LqLj"
    },
    {
      "cell_type": "code",
      "execution_count": null,
      "metadata": {
        "id": "0xPW2kFWLqLj",
        "outputId": "a220e34c-d7bd-4bb2-c4ff-7e870923484c"
      },
      "outputs": [
        {
          "data": {
            "text/plain": [
              "55627"
            ]
          },
          "execution_count": 96,
          "metadata": {},
          "output_type": "execute_result"
        }
      ],
      "source": [
        "len(vectorizer.get_feature_names())"
      ],
      "id": "0xPW2kFWLqLj"
    },
    {
      "cell_type": "code",
      "execution_count": null,
      "metadata": {
        "id": "r5lF3IG5LqLj"
      },
      "outputs": [],
      "source": [
        "# 計算商品間的相似程度\n",
        "from sklearn.metrics.pairwise import cosine_similarity\n",
        "similarity_matrix = cosine_similarity(tfidf_matrix)\n",
        "mapping = pd.Series(df.index,index = df['title'])\n",
        "\n",
        "# 每個商品回傳 k 個最相近的商品\n",
        "def recommend_item(item_input, k=2):\n",
        "    try:\n",
        "        item_index = mapping[item_input]\n",
        "        similarity_score = list(enumerate(similarity_matrix[item_index]))\n",
        "        similarity_score = sorted(similarity_score, key=lambda x: x[1], reverse=True)\n",
        "        similarity_score = similarity_score[:k]\n",
        "        item_indices = [i[0] for i in similarity_score]\n",
        "        return (df['asin'].iloc[item_indices].tolist())\n",
        "    except:\n",
        "        return []\n",
        "\n",
        "# 利用使用者購買過的商品產生推薦\n",
        "def recommend_items(items, k):\n",
        "    res = []\n",
        "    for d in items:\n",
        "        res.extend(recommend_item(d, k))\n",
        "    return res\n"
      ],
      "id": "r5lF3IG5LqLj"
    },
    {
      "cell_type": "code",
      "execution_count": null,
      "metadata": {
        "id": "7cRJ6y9XLqLj",
        "outputId": "8592d340-36da-4c19-cbac-802faba876ab"
      },
      "outputs": [
        {
          "name": "stdout",
          "output_type": "stream",
          "text": [
            "['Mary Kay Satin Hands Hand Cream Travel MINI Size Set of 6']\n",
            "['No7 Stay Perfect Foundation Cool Vanilla by No7']\n",
            "['Boots No7 Stay Perfect Foundation 30ml - Calico']\n",
            "['Boots No7 Stay Perfect Amazing Eyes Pencil, Deep Purple 0.04 oz (1 g)']\n",
            "['Boots No7 Stay Perfect Blemish Cover, Medium Deep, .15 oz']\n",
            "['No 7 Stay Perfect Lip Stain 2.5g Ruby']\n",
            "['2 x Rimmel London Stay Matte Liquid Mousse Foundation 30ml - 103 True Ivory']\n",
            "['(6 Pack) RIMMEL LONDON Stay Matte Liquid Mousse Foundation - Sand']\n",
            "['Bourjois 123 Perfect CC Eye Concealer']\n",
            "[\"Benefit Cosmetics Stay Don't Stray Stay Put Primer Medium/Deep 0.33 FL OZ\"]\n",
            "['EX1 Cosmetics Invisiwear Liquid Foundation Number F300']\n"
          ]
        }
      ],
      "source": [
        "print(df['title'][5:6].to_list())\n",
        "item_list = recommend_items(df['title'][2:3].to_list(), k=10)\n",
        "for item in item_list:\n",
        "    print(df[(df['asin']==item)]['title'].to_list())"
      ],
      "id": "7cRJ6y9XLqLj"
    },
    {
      "cell_type": "code",
      "execution_count": null,
      "metadata": {
        "id": "cq_yK0UeLqLk"
      },
      "outputs": [],
      "source": [
        "def recommender(training_data, time, users=[], k=10):\n",
        "    '''\n",
        "    * training_data: dataframe 輸入的訓練資料集（2018-09-01 以前資料）\n",
        "    * users: [] 需要被推薦的使用者\n",
        "    * k: int 每個使用者需要推薦的商品數\n",
        "    * recommendations: dict\n",
        "      {\n",
        "          使用者一： [推薦商品一, 推薦商品二, ...],\n",
        "          使用者二： [...], ...\n",
        "      }\n",
        "    '''\n",
        "    target = training_data[\n",
        "                (training_data['DATE']>=time)&\n",
        "                (training_data['overall']>=3)]\n",
        "    cold_start = target['asin'].value_counts().sort_values(ascending=False).keys()[:k]\n",
        "    user_set = training_data['reviewerID'].unique()\n",
        "    recommendations = {}\n",
        "    ratings_trainings = training_data\n",
        "    count = 0\n",
        "    for user in users:\n",
        "        recommend_item = list()\n",
        "        if user not in user_set:\n",
        "            recommendations[user] = cold_start\n",
        "        else:\n",
        "            buy_item = metadata[metadata['asin'].isin(ratings_trainings[ratings_trainings['reviewerID'] == user]['asin'].tolist())]\n",
        "            similar_item = recommend_items(buy_item['title'].tolist(), 2*k)\n",
        "            buy_item_brand = metadata[metadata['brand_from_title'].isin(buy_item['brand_from_title'].tolist())]['asin'].tolist()\n",
        "            buy_item_brand_2 = metadata[metadata['brand'].isin(buy_item['brand'].tolist())]['asin'].tolist()\n",
        "            top_brand_item = training_data[((training_data['asin'].isin(buy_item_brand+buy_item_brand_2))&\n",
        "                                            (training_data['DATE']>=time)&\n",
        "                                            (training_data['overall']>=3))|\n",
        "                                           (training_data['asin'].isin(similar_item))\n",
        "                                          ]\n",
        "            top_brand_item = top_brand_item['asin'].value_counts().sort_values(ascending=False).keys()[:k]\n",
        "            recommendations[user] = top_brand_item.tolist()\n",
        "            count += 1\n",
        "    return recommendations"
      ],
      "id": "cq_yK0UeLqLk"
    },
    {
      "cell_type": "markdown",
      "metadata": {
        "id": "2pJ_lyNiLqLk"
      },
      "source": [
        "## 結果評估"
      ],
      "id": "2pJ_lyNiLqLk"
    },
    {
      "cell_type": "code",
      "execution_count": null,
      "metadata": {
        "id": "Oy_p1pwELqLk",
        "outputId": "dc231a84-f53f-45ac-f3e3-81a1d646392e"
      },
      "outputs": [
        {
          "name": "stdout",
          "output_type": "stream",
          "text": [
            "2018-07-01 score: 0.13559322033898305\n",
            "2018-05-01 score: 0.11016949152542373\n",
            "2018-01-01 score: 0.09661016949152543\n",
            "2016-01-01 score: 0.08135593220338982\n"
          ]
        }
      ],
      "source": [
        "def evaluate(ratings_testings_by_user={}, ratings_by_user={}, method=None):\n",
        "    '''\n",
        "    * ratings_testings_by_user: dict 真實被購買的商品資料（2018-09-01 以後資料）\n",
        "    * ratings_by_user: dict 利用訓練資料學習的推薦商品\n",
        "    * method: str\n",
        "    * score: float\n",
        "    '''\n",
        "    total = 0\n",
        "    for d in ratings_testings_by_user:\n",
        "        if d in ratings_by_user:\n",
        "            total += len(set(ratings_by_user[d]) & set(ratings_testings_by_user[d]))\n",
        "\n",
        "    score = total / len(ratings_testings)\n",
        "    return score\n",
        "time_list = []\n",
        "time_list = ['2018-07-01','2018-05-01', '2018-01-01', '2016-01-01']\n",
        "for time in time_list:\n",
        "    ratings_by_user = recommender(ratings_trainings, time, users)\n",
        "    score = evaluate(ratings_testings_by_user, ratings_by_user)\n",
        "    print(f'{time} score: {score}')"
      ],
      "id": "Oy_p1pwELqLk"
    },
    {
      "cell_type": "code",
      "execution_count": null,
      "metadata": {
        "id": "P8k7geYuLqLk"
      },
      "outputs": [],
      "source": [
        ""
      ],
      "id": "P8k7geYuLqLk"
    },
    {
      "cell_type": "code",
      "execution_count": null,
      "metadata": {
        "id": "cArmel_ALqLk"
      },
      "outputs": [],
      "source": [
        ""
      ],
      "id": "cArmel_ALqLk"
    }
  ],
  "metadata": {
    "kernelspec": {
      "display_name": "Python [conda env:.conda-spacy_env]",
      "language": "python",
      "name": "conda-env-.conda-spacy_env-py"
    },
    "language_info": {
      "codemirror_mode": {
        "name": "ipython",
        "version": 3
      },
      "file_extension": ".py",
      "mimetype": "text/x-python",
      "name": "python",
      "nbconvert_exporter": "python",
      "pygments_lexer": "ipython3",
      "version": "3.9.7"
    },
    "colab": {
      "name": "content_based_recommandation.ipynb",
      "provenance": [],
      "include_colab_link": true
    }
  },
  "nbformat": 4,
  "nbformat_minor": 5
}